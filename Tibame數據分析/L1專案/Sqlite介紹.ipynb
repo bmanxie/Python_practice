{
 "cells": [
  {
   "cell_type": "markdown",
   "metadata": {},
   "source": [
    "# Connect DB"
   ]
  },
  {
   "cell_type": "code",
   "execution_count": 1,
   "metadata": {},
   "outputs": [],
   "source": [
    "import sqlite3\n",
    "# 與myData建立連結\n",
    "conn = sqlite3.connect(\"myData3.db\")\n",
    "conn.close()"
   ]
  },
  {
   "cell_type": "markdown",
   "metadata": {},
   "source": [
    "# Create Table\n",
    "```\n",
    "CREATE TEBLE table_name(\n",
    "    col1 type\n",
    "    col2 type\n",
    "    col3 tyoe)\n",
    "\n",
    ".execute() 執行SQL指令\n",
    "```"
   ]
  },
  {
   "cell_type": "code",
   "execution_count": 2,
   "metadata": {},
   "outputs": [],
   "source": [
    "conn = sqlite3.connect(\"myData3.db\")   # 資料庫連線\n",
    "cursor = conn.cursor()\n",
    "cursor.execute('DROP TABLE IF EXISTS students')\n",
    "sql = '''CREATE TABLE students(  \n",
    "        id int PRIMARY KEY,\n",
    "        name TEXT,\n",
    "        gender TEXT)'''\n",
    "cursor.execute(sql)                    # 使用cursor執行SQL指令\n",
    "cursor.close()                         # 關閉\n",
    "conn.close()                           # 關閉資料庫連線"
   ]
  },
  {
   "cell_type": "code",
   "execution_count": 3,
   "metadata": {},
   "outputs": [],
   "source": [
    "import sqlite3\n",
    "conn = sqlite3.connect(\"myData3.db\")   # 資料庫連線\n",
    "cursor = conn.cursor()\n",
    "cursor.execute('DROP TABLE IF EXISTS students')\n",
    "sql = '''CREATE TABLE students(  \n",
    "        id int PRIMARY KEY,\n",
    "        name TEXT,\n",
    "        gender TEXT)'''\n",
    "conn.execute(sql)                      # 使用conn執行SQL指令\n",
    "cursor.close()                         # 關閉\n",
    "conn.close()                           # 關閉資料庫連線"
   ]
  },
  {
   "cell_type": "markdown",
   "metadata": {},
   "source": [
    "# Insert Data\n",
    "\n",
    "新增資料\n",
    "```\n",
    "INSERT INTO table (col1, col2, col3) VALUSE (val1, val2, val3)\n",
    "```\n",
    "可使用通配符「?」\n",
    "```\n",
    "x = (val1, val2, val3)\n",
    "sql = \"INSERT INTO table VALUSE (?, ?, ?)\"\n",
    "conn.execute(sql, x)\n",
    "conn.commit() 提交更改，確保變更是永久的\n",
    "conn.rollback() 撤銷來自上次commit的所有變更、回到原來狀態\n",
    "```\n"
   ]
  },
  {
   "cell_type": "code",
   "execution_count": 4,
   "metadata": {},
   "outputs": [
    {
     "name": "stdout",
     "output_type": "stream",
     "text": [
      "請輸入myData3資料庫students表單資料\n",
      "請輸入id : 1\n",
      "請輸入name : David\n",
      "請輸入gender : m\n",
      "繼續(y/n)? y\n",
      "請輸入id : 2\n",
      "請輸入name : Jane\n",
      "請輸入gender : f\n",
      "繼續(y/n)? n\n"
     ]
    }
   ],
   "source": [
    "import sqlite3\n",
    "conn = sqlite3.connect(\"myData3.db\")   # 資料庫連線\n",
    "print(\"請輸入myData3資料庫students表單資料\")\n",
    "while True:\n",
    "    new_id = int(input(\"請輸入id : \"))  # 轉成整數\n",
    "    new_name = input(\"請輸入name : \")\n",
    "    new_gender = input(\"請輸入gender : \")\n",
    "    x = (new_id, new_name, new_gender)\n",
    "    sql = '''INSERT INTO students VALUES (?,?,?)'''  \n",
    "    conn.execute(sql,x)\n",
    "    conn.commit()                       # 更新資料庫\n",
    "    again = input(\"繼續(y/n)? \")\n",
    "    if again[0].lower() == \"n\":\n",
    "        break\n",
    "conn.close()                            # 關閉資料庫連線"
   ]
  },
  {
   "cell_type": "markdown",
   "metadata": {},
   "source": [
    "# Query Data"
   ]
  },
  {
   "cell_type": "code",
   "execution_count": 5,
   "metadata": {},
   "outputs": [
    {
     "name": "stdout",
     "output_type": "stream",
     "text": [
      "id =  1\n",
      "name =  David\n",
      "gender =  m\n",
      "id =  2\n",
      "name =  Jane\n",
      "gender =  f\n"
     ]
    }
   ],
   "source": [
    "conn = sqlite3.connect(\"myData3.db\")     # 資料庫連線\n",
    "results = conn.execute(\"SELECT * FROM students\")\n",
    "for record in results:\n",
    "    print(\"id = \", record[0])\n",
    "    print(\"name = \", record[1])\n",
    "    print(\"gender = \", record[2])\n",
    "conn.close()                             # 關閉資料庫連線"
   ]
  },
  {
   "cell_type": "code",
   "execution_count": 6,
   "metadata": {},
   "outputs": [
    {
     "name": "stdout",
     "output_type": "stream",
     "text": [
      "(1, 'David', 'm')\n",
      "(2, 'Jane', 'f')\n"
     ]
    }
   ],
   "source": [
    "conn = sqlite3.connect(\"myData3.db\")     # 資料庫連線\n",
    "results = conn.execute(\"SELECT * from students\")\n",
    "allstudents = results.fetchall()         # 結果轉成element是tuple的list\n",
    "\n",
    "for student in allstudents:\n",
    "    print(student)\n",
    "conn.close()                             # 關閉資料庫連線"
   ]
  },
  {
   "cell_type": "code",
   "execution_count": 7,
   "metadata": {},
   "outputs": [
    {
     "name": "stdout",
     "output_type": "stream",
     "text": [
      "('Jane', 'f')\n"
     ]
    }
   ],
   "source": [
    "conn = sqlite3.connect(\"myData3.db\")     # 資料庫連線\n",
    "# 列出性別f學生的姓名、性別\n",
    "sql = '''SELECT name, gender\n",
    "        FROM students\n",
    "        WHERE gender = \"f\"'''\n",
    "results = conn.execute(sql)\n",
    "allstudents = results.fetchall()         # 結果轉成元素是元組的串列\n",
    "for student in allstudents:\n",
    "    print(student)\n",
    "conn.close()                             # 關閉資料庫連線"
   ]
  },
  {
   "cell_type": "markdown",
   "metadata": {},
   "source": [
    "# Update Data\n",
    "```\n",
    "UPDATE table SET column = \" \" WHERE 條件\n",
    "```"
   ]
  },
  {
   "cell_type": "code",
   "execution_count": 8,
   "metadata": {},
   "outputs": [
    {
     "name": "stdout",
     "output_type": "stream",
     "text": [
      "('Tomy',)\n",
      "('Jane',)\n"
     ]
    }
   ],
   "source": [
    "conn = sqlite3.connect(\"myData3.db\")     # 資料庫連線\n",
    "# 更改id=1的學生姓名為Tomy\n",
    "sql = '''UPDATE students\n",
    "        SET name = \"Tomy\"\n",
    "        WHERE id = 1'''\n",
    "results = conn.execute(sql)\n",
    "conn.commit()                            # 更新資料庫\n",
    "results = conn.execute(\"SELECT name FROM students\")\n",
    "allstudents = results.fetchall()         # 結果轉成元素是元組的串列\n",
    "for student in allstudents:\n",
    "    print(student)\n",
    "conn.close()                             # 關閉資料庫連線"
   ]
  },
  {
   "cell_type": "markdown",
   "metadata": {},
   "source": [
    "# Delete Data\n",
    "```\n",
    "DELETE FROM table WHERE 條件\n",
    "```"
   ]
  },
  {
   "cell_type": "code",
   "execution_count": 9,
   "metadata": {},
   "outputs": [
    {
     "name": "stdout",
     "output_type": "stream",
     "text": [
      "('Tomy',)\n"
     ]
    }
   ],
   "source": [
    "import sqlite3\n",
    "conn = sqlite3.connect(\"myData3.db\")     # 資料庫連線\n",
    "sql = '''DELETE\n",
    "        FROM students\n",
    "        WHERE id = 2'''\n",
    "results = conn.execute(sql)\n",
    "conn.commit()                           # 更新資料庫\n",
    "results = conn.execute(\"SELECT name FROM students\")\n",
    "allstudents = results.fetchall()        # 結果轉成元素是元組的串列\n",
    "for student in allstudents:\n",
    "    print(student)\n",
    "conn.close()                            # 關閉資料庫連線"
   ]
  }
 ],
 "metadata": {
  "kernelspec": {
   "display_name": "Python 3 (ipykernel)",
   "language": "python",
   "name": "python3"
  },
  "language_info": {
   "codemirror_mode": {
    "name": "ipython",
    "version": 3
   },
   "file_extension": ".py",
   "mimetype": "text/x-python",
   "name": "python",
   "nbconvert_exporter": "python",
   "pygments_lexer": "ipython3",
   "version": "3.11.5"
  }
 },
 "nbformat": 4,
 "nbformat_minor": 4
}
