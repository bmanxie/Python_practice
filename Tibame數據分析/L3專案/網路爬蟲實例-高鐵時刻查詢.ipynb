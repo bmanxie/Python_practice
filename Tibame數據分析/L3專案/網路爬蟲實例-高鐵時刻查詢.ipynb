{
 "cells": [
  {
   "cell_type": "code",
   "execution_count": null,
   "id": "011d405c",
   "metadata": {},
   "outputs": [],
   "source": [
    "import requests\n",
    "from bs4 import BeautifulSoup\n",
    "import json\n",
    "\n",
    "url = 'https://www.thsrc.com.tw/TimeTable/Search'\n",
    "headers = {'User-Agent' : 'Mozilla/5.0 (Windows NT 10.0; Win64; x64) AppleWebKit/537.36 (KHTML, like Gecko) Chrome/126.0.0.0 Safari/537.36'}\n",
    "\n",
    "form_data_str = \"\"\"SearchType: S\n",
    "Lang: TW\n",
    "StartStation: TaiZhong\n",
    "EndStation: TaoYuan\n",
    "OutWardSearchDate: 2024/08/22\n",
    "OutWardSearchTime: 08:30\n",
    "ReturnSearchDate: \n",
    "ReturnSearchTime: \n",
    "DiscountType: e1b4c4d9-98d7-4c8c-9834-e1d2528750f1\"\"\"\n",
    "\n",
    "#早鳥: e1b4c4d9-98d7-4c8c-9834-e1d2528750f1\n",
    "#大學生: 68d9fc7b-7330-44c2-962a-74bc47d2ee8a\n",
    "\n",
    "\n",
    "post_data = {}\n",
    "for row in form_data_str.split('\\n'):\n",
    "    post_data[row.split(\": \")[0]] = row.split(\": \")[1]\n",
    "res = requests.post(url, data = post_data, headers=headers)"
   ]
  },
  {
   "cell_type": "code",
   "execution_count": null,
   "id": "365ce368",
   "metadata": {},
   "outputs": [],
   "source": [
    "json_str = res.text\n",
    "json_data = json.loads(json_str)\n",
    "train_items = json_data['data']['DepartureTable']['TrainItem']\n",
    "for i in train_items:\n",
    "    # 如果有折扣類型，輸出折扣\n",
    "    if post_data.get('DiscountType') != \"\":\n",
    "        print(\"班次: {}, 出發時間: {}, 抵達時間: {}, 折扣: {}\".format(i[\"TrainNumber\"], i[\"DepartureTime\"], i[\"DestinationTime\"], i['Discount'][0]['Discount']))\n",
    "    else:\n",
    "        print(\"班次: {}, 出發時間: {}, 抵達時間: {}\".format(i[\"TrainNumber\"], i[\"DepartureTime\"], i[\"DestinationTime\"]))"
   ]
  }
 ],
 "metadata": {
  "kernelspec": {
   "display_name": "Python 3 (ipykernel)",
   "language": "python",
   "name": "python3"
  },
  "language_info": {
   "codemirror_mode": {
    "name": "ipython",
    "version": 3
   },
   "file_extension": ".py",
   "mimetype": "text/x-python",
   "name": "python",
   "nbconvert_exporter": "python",
   "pygments_lexer": "ipython3",
   "version": "3.11.5"
  }
 },
 "nbformat": 4,
 "nbformat_minor": 5
}
