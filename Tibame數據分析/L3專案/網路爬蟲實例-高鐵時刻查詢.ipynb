{
 "cells": [
  {
   "cell_type": "code",
   "execution_count": 32,
   "id": "011d405c",
   "metadata": {},
   "outputs": [],
   "source": [
    "import requests\n",
    "from bs4 import BeautifulSoup\n",
    "import json\n",
    "\n",
    "url = 'https://www.thsrc.com.tw/TimeTable/Search'\n",
    "headers = {'User-Agent' : 'Mozilla/5.0 (Windows NT 10.0; Win64; x64) AppleWebKit/537.36 (KHTML, like Gecko) Chrome/126.0.0.0 Safari/537.36'}\n",
    "\n",
    "form_data_str = \"\"\"SearchType: S\n",
    "Lang: TW\n",
    "StartStation: TaiZhong\n",
    "EndStation: TaoYuan\n",
    "OutWardSearchDate: 2024/08/22\n",
    "OutWardSearchTime: 08:30\n",
    "ReturnSearchDate: \n",
    "ReturnSearchTime: \n",
    "DiscountType: e1b4c4d9-98d7-4c8c-9834-e1d2528750f1\"\"\"\n",
    "\n",
    "#早鳥: e1b4c4d9-98d7-4c8c-9834-e1d2528750f1\n",
    "#大學生: 68d9fc7b-7330-44c2-962a-74bc47d2ee8a\n",
    "\n",
    "\n",
    "post_data = {}\n",
    "for row in form_data_str.split('\\n'):\n",
    "    post_data[row.split(\": \")[0]] = row.split(\": \")[1]\n",
    "res = requests.post(url, data = post_data, headers=headers)"
   ]
  },
  {
   "cell_type": "code",
   "execution_count": 33,
   "id": "365ce368",
   "metadata": {},
   "outputs": [
    {
     "name": "stdout",
     "output_type": "stream",
     "text": [
      "班次: 0502, 出發時間: 06:05, 抵達時間: 06:47, 折扣: 65\n",
      "班次: 1504, 出發時間: 06:30, 抵達時間: 07:12, 折扣: 65\n",
      "班次: 0508, 出發時間: 06:52, 抵達時間: 07:36, 折扣: 65\n",
      "班次: 0300, 出發時間: 06:56, 抵達時間: 07:26, 折扣: 65\n",
      "班次: 1510, 出發時間: 07:12, 抵達時間: 07:56, 折扣: 65\n",
      "班次: 0802, 出發時間: 07:25, 抵達時間: 08:08, 折扣: 65\n",
      "班次: 1602, 出發時間: 07:40, 抵達時間: 08:16, 折扣: 65\n",
      "班次: 1302, 出發時間: 07:53, 抵達時間: 08:25, 折扣: 65\n",
      "班次: 0606, 出發時間: 08:00, 抵達時間: 08:36, 折扣: 65\n",
      "班次: 1514, 出發時間: 08:04, 抵達時間: 08:49, 折扣: 65\n",
      "班次: 0610, 出發時間: 08:32, 抵達時間: 09:09, 折扣: 8\n",
      "班次: 0806, 出發時間: 08:36, 抵達時間: 09:18, 折扣: 65\n",
      "班次: 0612, 出發時間: 09:00, 抵達時間: 09:36, 折扣: 8\n",
      "班次: 0616, 出發時間: 09:32, 抵達時間: 10:09, 折扣: 9\n",
      "班次: 0810, 出發時間: 09:36, 抵達時間: 10:18, 折扣: 65\n",
      "班次: 0814, 出發時間: 10:36, 抵達時間: 11:18, 折扣: 9\n",
      "班次: 0818, 出發時間: 11:36, 抵達時間: 12:18, 折扣: 65\n",
      "班次: 0630, 出發時間: 12:00, 抵達時間: 12:36, 折扣: 8\n",
      "班次: 0822, 出發時間: 12:36, 抵達時間: 13:18, 折扣: 9\n",
      "班次: 0826, 出發時間: 13:36, 抵達時間: 14:18, 折扣: 8\n",
      "班次: 0838, 出發時間: 16:36, 抵達時間: 17:18, 折扣: 8\n",
      "班次: 0842, 出發時間: 17:36, 抵達時間: 18:18, 折扣: 8\n",
      "班次: 0846, 出發時間: 18:36, 抵達時間: 19:18, 折扣: 65\n",
      "班次: 0676, 出發時間: 19:32, 抵達時間: 20:09, 折扣: 8\n",
      "班次: 0850, 出發時間: 19:36, 抵達時間: 20:18, 折扣: 65\n",
      "班次: 0678, 出發時間: 20:00, 抵達時間: 20:36, 折扣: 9\n",
      "班次: 0684, 出發時間: 21:00, 抵達時間: 21:36, 折扣: 8\n",
      "班次: 0858, 出發時間: 21:36, 抵達時間: 22:18, 折扣: 65\n",
      "班次: 0690, 出發時間: 22:05, 抵達時間: 22:41, 折扣: 65\n",
      "班次: 0862, 出發時間: 22:40, 抵達時間: 23:23, 折扣: 65\n",
      "班次: 0696, 出發時間: 22:59, 抵達時間: 23:38, 折扣: 65\n"
     ]
    }
   ],
   "source": [
    "json_str = res.text\n",
    "json_data = json.loads(json_str)\n",
    "train_items = json_data['data']['DepartureTable']['TrainItem']\n",
    "for i in train_items:\n",
    "    # 如果有折扣類型，輸出折扣\n",
    "    if post_data.get('DiscountType') != \"\":\n",
    "        print(\"班次: {}, 出發時間: {}, 抵達時間: {}, 折扣: {}\".format(i[\"TrainNumber\"], i[\"DepartureTime\"], i[\"DestinationTime\"], i['Discount'][0]['Discount']))\n",
    "    else:\n",
    "        print(\"班次: {}, 出發時間: {}, 抵達時間: {}\".format(i[\"TrainNumber\"], i[\"DepartureTime\"], i[\"DestinationTime\"]))"
   ]
  }
 ],
 "metadata": {
  "kernelspec": {
   "display_name": "Python 3 (ipykernel)",
   "language": "python",
   "name": "python3"
  },
  "language_info": {
   "codemirror_mode": {
    "name": "ipython",
    "version": 3
   },
   "file_extension": ".py",
   "mimetype": "text/x-python",
   "name": "python",
   "nbconvert_exporter": "python",
   "pygments_lexer": "ipython3",
   "version": "3.11.5"
  }
 },
 "nbformat": 4,
 "nbformat_minor": 5
}
